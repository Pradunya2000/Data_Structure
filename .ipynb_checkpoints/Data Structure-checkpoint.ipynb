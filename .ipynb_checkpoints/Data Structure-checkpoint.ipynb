{
 "cells": [
  {
   "cell_type": "code",
   "execution_count": null,
   "id": "c4ae1e34-5f18-4317-87dd-8010f2490d1b",
   "metadata": {},
   "outputs": [],
   "source": [
    "# 1) Discuss string slicing and provide examples.\n",
    "# Ans String slicing is a way to extract a portion of a string by specifying a range of indices. In Python, this is done using the syntax string[start:stop:step], where:\n",
    "\n",
    "# start is the index where the slice begins (inclusive).\n",
    "# stop is the index where the slice ends (exclusive).\n",
    "# step is the interval between each index in the slice (optional) -->"
   ]
  },
  {
   "cell_type": "code",
   "execution_count": 4,
   "id": "26b25717-0e9a-4fa7-a14e-f89104207c4a",
   "metadata": {},
   "outputs": [
    {
     "name": "stdout",
     "output_type": "stream",
     "text": [
      "World\n"
     ]
    }
   ],
   "source": [
    "#Here are some examples:\n",
    "\n",
    "# 1.Basic Slicing:\n",
    "text = \"Hello, World!\"\n",
    "slice1 = text[0:5]  # Extracts 'Hello'\n",
    "slice2 = text[7:12] # Extracts 'World'\n",
    "print(slice1)"
   ]
  },
  {
   "cell_type": "code",
   "execution_count": 7,
   "id": "6470f17e-adac-431c-aac9-81d7e3ea0a84",
   "metadata": {},
   "outputs": [
    {
     "name": "stdout",
     "output_type": "stream",
     "text": [
      "Programming\n"
     ]
    }
   ],
   "source": [
    "# 2.Omitting Start or Stop:\n",
    "text = \"Python Programming\"\n",
    "slice1 = text[:6]   # Extracts 'Python' (from the beginning to index 5)\n",
    "slice2 = text[7:]   # Extracts 'Programming' (from index 7 to the end)\n",
    "print(slice2)"
   ]
  },
  {
   "cell_type": "code",
   "execution_count": null,
   "id": "095e654b-da5e-46ab-ac39-264a39c13506",
   "metadata": {},
   "outputs": [],
   "source": [
    "# 3.Using Step:\n",
    "text = \"abcdefg\"\n",
    "slice1 = text[::2]  # Extracts 'aceg' (every second character)\n",
    "slice2 = text[1:6:2] # Extracts 'bdf' (from index 1 to 5, every second character)"
   ]
  },
  {
   "cell_type": "code",
   "execution_count": 8,
   "id": "7df4efd3-09c6-49c1-983d-60890a592956",
   "metadata": {},
   "outputs": [],
   "source": [
    "# 4.Negative Indices:\n",
    "text = \"Hello, World!\"\n",
    "slice1 = text[-6:-1]  # Extracts 'World' (from index -6 to -1, negative indices count from the end)"
   ]
  },
  {
   "cell_type": "code",
   "execution_count": 10,
   "id": "4c2129c0-e821-480f-9b8c-bde5f9559ca5",
   "metadata": {},
   "outputs": [
    {
     "name": "stdout",
     "output_type": "stream",
     "text": [
      "!dlroW ,olleH\n"
     ]
    }
   ],
   "source": [
    "# 5.Reversing a String:\n",
    "text = \"Hello, World!\"\n",
    "reversed_text = text[::-1]  # Extracts '!dlroW ,olleH' (reverses the string)\n",
    "print(reversed_text)"
   ]
  },
  {
   "cell_type": "code",
   "execution_count": null,
   "id": "5eeb0afb-001f-4c2c-b39d-b866487e90d3",
   "metadata": {},
   "outputs": [],
   "source": [
    "# String slicing is powerful for manipulating and accessing specific parts of strings efficiently."
   ]
  },
  {
   "cell_type": "code",
   "execution_count": null,
   "id": "7683ae1b-d4cc-4221-92ad-c006f70dcaaf",
   "metadata": {},
   "outputs": [],
   "source": [
    "# 2) Explain the key features of lists in Python.\n",
    "# Ans Lists in Python are a versatile data structure that offer several key features, including:\n",
    "\n",
    "# 1. Ordered Collection: Lists are ordered collections of items, meaning that the order of the items matters and is maintained.\n",
    "\n",
    "# 2. Mutable: Lists are mutable, meaning they can be modified after creation (e.g., items can be added, removed, or changed).\n",
    "\n",
    "# 3. Dynamic Size: Lists can grow or shrink dynamically as items are added or removed.\n",
    "\n",
    "# 4. Heterogeneous: Lists can contain items of different data types, including strings, integers, floats, and other lists.\n",
    "\n",
    "# 5. Indexing and Slicing: Lists support indexing (accessing individual items by index) and slicing (extracting subsets of items).\n",
    "\n",
    "# 6. Methods: Lists have various built-in methods for operations like sorting, reversing, inserting, and removing items.\n",
    "\n",
    "# 7. Nested Lists: Lists can contain other lists, enabling complex data structures like matrices or trees.\n",
    "\n",
    "# Some common list methods include:\n",
    "\n",
    "# - append(): Adds an item to the end of the list.\n",
    "# - insert(): Inserts an item at a specified position.\n",
    "# - remove(): Removes the first occurrence of an item.\n",
    "# - sort(): Sorts the list in ascending order.\n",
    "# - reverse(): Reverses the list's order."
   ]
  },
  {
   "cell_type": "code",
   "execution_count": null,
   "id": "3cfcdae4-e446-4d0f-81be-c6fde24378db",
   "metadata": {},
   "outputs": [],
   "source": [
    "#Ordered: Lists maintain the order of elements. Each element can be accessed using its index, starting from 0.\n",
    "my_list = [10, 20, 30]\n",
    "print(my_list[1])  # Outputs: 20"
   ]
  },
  {
   "cell_type": "code",
   "execution_count": null,
   "id": "2bcf4790-e501-483d-a76c-5519ee4b8089",
   "metadata": {},
   "outputs": [],
   "source": [
    "#Mutable: Lists can be modified after creation. You can change, add, or remove elements.\n",
    "my_list = [1, 2, 3]\n",
    "my_list[1] = 5       # Changes the second element to 5\n",
    "my_list.append(4)   # Adds 4 to the end of the list\n",
    "my_list.remove(2)   # Removes the first occurrence of 2"
   ]
  },
  {
   "cell_type": "code",
   "execution_count": 15,
   "id": "f91c155d-334c-4106-b6cf-513fa18f42d1",
   "metadata": {},
   "outputs": [],
   "source": [
    "#Dynamic Size: Lists can grow or shrink in size as needed. You don’t need to specify the size upfront.\n",
    "my_list = []\n",
    "my_list.append(1)\n",
    "my_list.append(2)"
   ]
  },
  {
   "cell_type": "code",
   "execution_count": 16,
   "id": "d84f0bfe-cfda-420c-aeb6-fe207c484f26",
   "metadata": {},
   "outputs": [],
   "source": [
    "#Heterogeneous Elements: Lists can hold items of different types, including other lists.\n",
    "my_list = [1, \"hello\", 3.14, [1, 2, 3]]"
   ]
  },
  {
   "cell_type": "code",
   "execution_count": null,
   "id": "3e22f093-ab09-4ab9-9c6b-b9897ae7e047",
   "metadata": {},
   "outputs": [],
   "source": [
    "#Indexing and Slicing: You can access elements or subsets of elements using indices and slices.\n",
    "my_list = [0, 1, 2, 3, 4, 5]\n",
    "print(my_list[1:4])  # Outputs: [1, 2, 3]"
   ]
  },
  {
   "cell_type": "code",
   "execution_count": 19,
   "id": "faa05aea-7384-46e6-b90e-80316ae38bf7",
   "metadata": {},
   "outputs": [],
   "source": [
    "#Built-in Methods: Lists come with a variety of built-in methods for common operations, such as append(), extend(), pop(), sort(), and more.\n",
    "my_list = [3, 1, 4, 1]\n",
    "my_list.sort()    # Sorts the list in ascending order"
   ]
  },
  {
   "cell_type": "code",
   "execution_count": null,
   "id": "de99b1b4-20c8-439a-afe4-74fb21a94e11",
   "metadata": {},
   "outputs": [],
   "source": [
    "#Nested Lists: Lists can contain other lists, which allows for creating multi-dimensional structures.\n",
    "matrix = [[1, 2, 3], [4, 5, 6], [7, 8, 9]]"
   ]
  },
  {
   "cell_type": "code",
   "execution_count": null,
   "id": "73f9f03c-3727-4a62-b609-f466cda78cb2",
   "metadata": {},
   "outputs": [],
   "source": [
    "# Lists are essential for handling collections of items and offer a range of functionalities that make them a fundamental part of Python programming."
   ]
  },
  {
   "cell_type": "code",
   "execution_count": null,
   "id": "ff37601e-2491-4bd1-a685-b6219f01e3e6",
   "metadata": {},
   "outputs": [],
   "source": [
    "# 3) Describe how to access, modify, and delete elements in a list with examples.\n",
    "# Ans Here's how to access, modify, and delete elements in a list:"
   ]
  },
  {
   "cell_type": "code",
   "execution_count": 21,
   "id": "cfd69ab4-abc8-412b-9c43-61546be4cd53",
   "metadata": {},
   "outputs": [
    {
     "name": "stdout",
     "output_type": "stream",
     "text": [
      "30\n",
      "[20, 30, 40]\n"
     ]
    }
   ],
   "source": [
    "#1. Accessing Elements\n",
    "#You can access elements in a list using indexing and slicing.\n",
    "\n",
    "#Indexing: Access a single element by its index.\n",
    "my_list = [10, 20, 30, 40, 50]\n",
    "print(my_list[2])  # Output: 30 (third element, index 2)\n",
    "\n",
    "# Slicing: Access a range of elements.\n",
    "my_list = [10, 20, 30, 40, 50]\n",
    "print(my_list[1:4])  # Output: [20, 30, 40] (elements from index 1 to 3)\n"
   ]
  },
  {
   "cell_type": "code",
   "execution_count": 22,
   "id": "74bc06cf-81f5-4d99-a1d3-56202630ac2e",
   "metadata": {},
   "outputs": [
    {
     "name": "stdout",
     "output_type": "stream",
     "text": [
      "[10, 20, 35, 40, 50]\n",
      "[10, 25, 35, 40, 50]\n"
     ]
    }
   ],
   "source": [
    "# 2. Modifying Elements\n",
    "#You can modify elements by assigning a new value to a specific index.\n",
    "\n",
    "#Single Element: Change the value at a specific index.\n",
    "my_list = [10, 20, 30, 40, 50]\n",
    "my_list[2] = 35  # Change the third element to 35\n",
    "print(my_list)  # Output: [10, 20, 35, 40, 50]\n",
    "\n",
    "#Multiple Elements: Modify a range of elements using slicing.\n",
    "my_list = [10, 20, 30, 40, 50]\n",
    "my_list[1:3] = [25, 35]  # Replace elements from index 1 to 2\n",
    "print(my_list)  # Output: [10, 25, 35, 40, 50]\n"
   ]
  },
  {
   "cell_type": "code",
   "execution_count": 25,
   "id": "b0f346af-b076-422b-b4f3-655430a67ba0",
   "metadata": {},
   "outputs": [
    {
     "name": "stdout",
     "output_type": "stream",
     "text": [
      "[10, 20, 30, 50]\n",
      "20\n",
      "[10, 30, 40, 50]\n",
      "[10, 30, 20, 50]\n",
      "[]\n"
     ]
    }
   ],
   "source": [
    "# Deleting Elements\n",
    "#You can delete elements using several methods.\n",
    "\n",
    "#Using del Statement: Delete an element by its index.\n",
    "my_list = [10, 20, 30, 40, 50]\n",
    "del my_list[3]  # Remove the element at index 3\n",
    "print(my_list)  # Output: [10, 20, 30, 50]\n",
    "\n",
    "#Using pop() Method: Remove and return an element by its index.\n",
    "my_list = [10, 20, 30, 40, 50]\n",
    "removed_element = my_list.pop(1)  # Remove and return the element at index 1\n",
    "print(removed_element)  # Output: 20\n",
    "print(my_list)  # Output: [10, 30, 40, 50]\n",
    "\n",
    "#Using remove() Method: Remove the first occurrence of a value.\n",
    "my_list = [10, 20, 30, 20, 50]\n",
    "my_list.remove(20)  # Remove the first occurrence of 20\n",
    "print(my_list)  # Output: [10, 30, 20, 50]\n",
    "\n",
    "#Using clear() Method: Remove all elements from the list.\n",
    "my_list = [10, 20, 30, 40, 50]\n",
    "my_list.clear()  # Remove all elements\n",
    "print(my_list)  # Output: []\n"
   ]
  },
  {
   "cell_type": "code",
   "execution_count": null,
   "id": "99470de1-f179-46cd-931b-77527f995cb1",
   "metadata": {},
   "outputs": [],
   "source": [
    "# Remember to always check the index range and element existence before accessing or modifying elements to avoid errors!"
   ]
  },
  {
   "cell_type": "code",
   "execution_count": null,
   "id": "b5c9a0a4-7104-44d4-af62-5b31c2490b7b",
   "metadata": {},
   "outputs": [],
   "source": [
    "# 4) Compare and contrast tuples and lists with examples.\n",
    "# Ans Tuples and lists are both used to store collections of items in Python, but they have some key differences and similarities. Here’s a comparison:\n",
    "# Similarities:\n",
    "\n",
    "# - Both can store multiple values\n",
    "# - Both are ordered, meaning the order of the values matters\n",
    "# - Both support indexing and slicing\n",
    "\n",
    "# Differences:\n",
    "\n",
    "# - Immutability: Tuples are immutable, meaning their contents cannot be modified after creation. Lists are mutable, meaning their contents can be modified.\n",
    "# - Syntax: Tuples use parentheses () while lists use square brackets []\n",
    "# - Use cases: Tuples are used for fixed, unchanging data, while lists are used for dynamic, changing data\n",
    "\n",
    "# Mutability:\n",
    "# Lists are mutable, meaning you can modify their contents after creation. You can add, remove, or change elements in a list.\n",
    "\n",
    "# Tuples, on the other hand, are immutable. Once you create a tuple, you cannot modify its elements.\n",
    "\n",
    "# Structure:\n",
    "# Lists are heterogeneous data structures. They can hold different types of items (e.g., numbers, strings, other lists).\n",
    "\n",
    "# Tuples are often used for structured data where each element corresponds to a specific piece of information (e.g., coordinates, date and time, user details).\n",
    "\n",
    "# Syntax:\n",
    "# Lists are denoted by square brackets ([]), while tuples use parentheses (()).\n",
    "\n",
    "# Use Cases:\n",
    "# Lists are better for operations like insertion and deletion due to their mutability.\n",
    "# Tuples are suitable for accessing elements because they don’t change and are less error-prone.\n",
    "\n",
    "# Memory Efficiency:\n",
    "# Tuples consume less memory compared to lists because they are stored in a single memory block.\n",
    "# Lists are allocated in two blocks: one for Python object information and another for data"
   ]
  },
  {
   "cell_type": "code",
   "execution_count": 26,
   "id": "6d3fac04-e665-438f-b353-db4986bd8d2a",
   "metadata": {},
   "outputs": [
    {
     "name": "stdout",
     "output_type": "stream",
     "text": [
      "[10, 25, 30]\n"
     ]
    }
   ],
   "source": [
    "# Creating a list and modifying it\n",
    "my_list = [10, 20, 30]\n",
    "my_list[1] = 25  # Modify an element\n",
    "print(my_list)  # Output: [10, 25, 30]\n",
    "\n",
    "# Creating a tuple (immutable)\n",
    "my_tuple = (42, 55, 67)\n",
    "# Uncomment the line below to see the error:\n",
    "# my_tuple[1] = 60  # TypeError: 'tuple' object does not support item assignment\n"
   ]
  },
  {
   "cell_type": "code",
   "execution_count": null,
   "id": "f3479478-1ac3-4a17-8c2b-74eab2cbe22e",
   "metadata": {},
   "outputs": [],
   "source": [
    "# 5) Describe the key features of sets and provide examples of their use.\n",
    "# Ans Sets are an unordered collection of unique elements in Python. Here are the key features of sets:\n",
    "\n",
    "# 1. Unordered: Sets do not maintain the order of elements.\n",
    "# 2. Unique elements: Sets only store unique elements, duplicates are automatically removed.\n",
    "# 3. Mutable: Sets are mutable, meaning elements can be added or removed after creation.\n",
    "\n",
    "# Key methods and operations:\n",
    "\n",
    "# 1. Add: Add an element to the set using the add() method.\n",
    "# 2. Remove: Remove an element from the set using the remove() method.\n",
    "# 3. Union: Combine two sets using the union() method or the | operator.\n",
    "# 4. Intersection: Find common elements between two sets using the intersection() method or the & operator.\n",
    "# 5. Difference: Find elements in one set but not another using the difference() method or the - operator.\n"
   ]
  },
  {
   "cell_type": "code",
   "execution_count": 29,
   "id": "ab51ede2-d68e-4e2e-8351-c345dade1fb6",
   "metadata": {},
   "outputs": [
    {
     "name": "stdout",
     "output_type": "stream",
     "text": [
      "{1, 2, 3, 4, 5}\n",
      "{1, 2, 3, 4, 5, 6}\n",
      "{1, 2, 3, 5, 6}\n",
      "{1, 2, 3, 4, 5}\n",
      "{3}\n"
     ]
    }
   ],
   "source": [
    "#Examples:\n",
    "\n",
    "#1. Creating a set:\n",
    "    \n",
    "my_set = {1, 2, 3, 4, 5}\n",
    "print(my_set) # Output: {1, 2, 3, 4, 5}\n",
    "    \n",
    "#2. Adding elements:\n",
    "    \n",
    "my_set.add(6)\n",
    "print(my_set) # Output: {1, 2, 3, 4, 5, 6}\n",
    "    \n",
    "#3. Removing elements:\n",
    "    \n",
    "my_set.remove(4)\n",
    "print(my_set) # Output: {1, 2, 3, 5, 6}\n",
    "    \n",
    "#4. Union:\n",
    "    \n",
    "set1 = {1, 2, 3}\n",
    "set2 = {3, 4, 5}\n",
    "print(set1.union(set2)) # Output: {1, 2, 3, 4, 5}\n",
    "    \n",
    "#5. Intersection:\n",
    "    \n",
    "set1 = {1, 2, 3}\n",
    "set2 = {3, 4, 5}\n",
    "print(set1.intersection(set2)) # Output: {3}"
   ]
  },
  {
   "cell_type": "code",
   "execution_count": null,
   "id": "5694fa79-4f53-418b-94f1-f4bdca5f0560",
   "metadata": {},
   "outputs": [],
   "source": [
    "# 6) Discuss the use cases of tuples and sets in Python programming\n",
    "# Ans Tuples and sets are both essential data structures in Python, with unique use cases:\n",
    "\n",
    "# Tuples:\n",
    "\n",
    "# 1. Fixed data: Use tuples when you need to store a fixed set of values that shouldn't change.\n",
    "# 2. Dictionary keys: Tuples can be used as keys in dictionaries because they are immutable.\n",
    "# 3. Return multiple values: Functions can return multiple values using tuples.\n",
    "# 4. Data integrity: Tuples ensure data integrity by preventing accidental changes.\n",
    "# 5. Performance: Tuples are faster than lists for fixed data.\n",
    "\n",
    "# Sets:\n",
    "\n",
    "# 1. Unique values: Use sets when you need to store unique values, eliminating duplicates.\n",
    "# 2. Fast lookups: Sets provide fast membership testing (e.g., x in my_set).\n",
    "# 3. Set operations: Perform union, intersection, difference, and symmetric difference operations.\n",
    "# 4. Data deduplication: Sets automatically remove duplicates.\n",
    "# 5. Mathematical operations: Sets support mathematical operations like union and intersection.\n",
    "\n",
    "# Real-world examples:\n",
    "\n",
    "# Tuples:\n",
    "\n",
    "# - Coordinates (latitude, longitude)\n",
    "# - IP addresses (IP, port)\n",
    "# - Database query results (fixed columns)\n",
    "\n",
    "# Sets:\n",
    "\n",
    "# - Unique user IDs\n",
    "# - Word frequency analysis (unique words)\n",
    "# - Database indexing (fast lookups)\n",
    "# - Mathematical operations (e.g., finding common elements)\n",
    "\n",
    "# In summary:\n",
    "\n",
    "# - Tuples are ideal for fixed, immutable data, while sets are suited for unique, dynamic data.\n",
    "# - Tuples ensure data integrity, while sets provide fast lookups and set operations.\n",
    "\n",
    "# By understanding the strengths of each data structure, you can choose the best fit for your specific use case, making your code more efficient, readable, and maintainable."
   ]
  },
  {
   "cell_type": "code",
   "execution_count": null,
   "id": "b45b73a9-642c-48d8-a212-6adb73603be6",
   "metadata": {},
   "outputs": [],
   "source": [
    "# 7) Describe how to add, modify, and delete items in a dictionary with examples.\n",
    "# Ans Dictionaries in Python are mutable, which means you can add, modify, and delete items. Here’s a detailed description of each operation with examples:"
   ]
  },
  {
   "cell_type": "code",
   "execution_count": 33,
   "id": "53ead1ba-9a54-4056-9be9-1ce1602e9a63",
   "metadata": {},
   "outputs": [
    {
     "name": "stdout",
     "output_type": "stream",
     "text": [
      "{'name': 'Alice', 'age': 30}\n",
      "{'name': 'Alice', 'age': 30, 'location': 'New York', 'occupation': 'Engineer'}\n"
     ]
    }
   ],
   "source": [
    "#1. Adding Items\n",
    "#You can add items to a dictionary by assigning a value to a new key.\n",
    "# Create an empty dictionary\n",
    "my_dict = {}\n",
    "\n",
    "# Add a new key-value pair\n",
    "my_dict['name'] = 'Alice'\n",
    "my_dict['age'] = 30\n",
    "print(my_dict)  # Output: {'name': 'Alice', 'age': 30}\n",
    "\n",
    "# Adding multiple items at once using update() method\n",
    "my_dict.update({'location': 'New York', 'occupation': 'Engineer'})\n",
    "print(my_dict)  # Output: {'name': 'Alice', 'age': 30, 'location': 'New York', 'occupation': 'Engineer'}\n"
   ]
  },
  {
   "cell_type": "code",
   "execution_count": 32,
   "id": "97bb8d96-b4be-4e02-83a7-0312b21434f4",
   "metadata": {},
   "outputs": [
    {
     "name": "stdout",
     "output_type": "stream",
     "text": [
      "{'name': 'Alice', 'age': 31, 'location': 'New York'}\n",
      "{'name': 'Alice', 'age': 31, 'location': 'San Francisco', 'occupation': 'Senior Engineer'}\n"
     ]
    }
   ],
   "source": [
    "#2. Modifying Items\n",
    "#You can modify an existing item in a dictionary by reassigning a value to an existing key.\n",
    "# Existing dictionary\n",
    "my_dict = {'name': 'Alice', 'age': 30, 'location': 'New York'}\n",
    "\n",
    "# Modify an existing key-value pair\n",
    "my_dict['age'] = 31\n",
    "print(my_dict)  # Output: {'name': 'Alice', 'age': 31, 'location': 'New York'}\n",
    "\n",
    "# Modify multiple items at once using update() method\n",
    "my_dict.update({'location': 'San Francisco', 'occupation': 'Senior Engineer'})\n",
    "print(my_dict)  # Output: {'name': 'Alice', 'age': 31, 'location': 'San Francisco', 'occupation': 'Senior Engineer'}\n"
   ]
  },
  {
   "cell_type": "code",
   "execution_count": 34,
   "id": "7e925bcb-874b-4743-9040-1e0f9f4ac5d9",
   "metadata": {},
   "outputs": [
    {
     "name": "stdout",
     "output_type": "stream",
     "text": [
      "{'name': 'Alice', 'location': 'San Francisco', 'occupation': 'Senior Engineer'}\n",
      "San Francisco\n",
      "{'name': 'Alice', 'occupation': 'Senior Engineer'}\n",
      "('occupation', 'Senior Engineer')\n",
      "{'name': 'Alice'}\n",
      "{}\n"
     ]
    }
   ],
   "source": [
    "#3. Deleting Items\n",
    "#You can delete items from a dictionary using the del statement, pop() method, or popitem() method.\n",
    "#Using del Statement: Deletes the key-value pair by the key.\n",
    "\n",
    "# Existing dictionary\n",
    "my_dict = {'name': 'Alice', 'age': 31, 'location': 'San Francisco', 'occupation': 'Senior Engineer'}\n",
    "\n",
    "# Delete an item using del\n",
    "del my_dict['age']\n",
    "print(my_dict)  # Output: {'name': 'Alice', 'location': 'San Francisco', 'occupation': 'Senior Engineer'}\n",
    "\n",
    "#Using pop() Method: Removes the key-value pair and returns the value.\n",
    "\n",
    "# Existing dictionary\n",
    "my_dict = {'name': 'Alice', 'location': 'San Francisco', 'occupation': 'Senior Engineer'}\n",
    "\n",
    "# Delete an item using pop\n",
    "location = my_dict.pop('location')\n",
    "print(location)  # Output: San Francisco\n",
    "print(my_dict)   # Output: {'name': 'Alice', 'occupation': 'Senior Engineer'}\n",
    "\n",
    "#Using popitem() Method: Removes and returns the last inserted key-value pair.\n",
    "\n",
    "# Existing dictionary\n",
    "my_dict = {'name': 'Alice', 'occupation': 'Senior Engineer'}\n",
    "\n",
    "# Delete the last item using popitem\n",
    "last_item = my_dict.popitem()\n",
    "print(last_item)  # Output: ('occupation', 'Senior Engineer')\n",
    "print(my_dict)    # Output: {'name': 'Alice'}\n",
    "\n",
    "#Using clear() Method: Removes all items from the dictionary.\n",
    "\n",
    "# Existing dictionary\n",
    "my_dict = {'name': 'Alice'}\n",
    "\n",
    "# Clear all items\n",
    "my_dict.clear()\n",
    "print(my_dict)  # Output: {}\n",
    "\n"
   ]
  },
  {
   "cell_type": "code",
   "execution_count": null,
   "id": "e1e8775b-8d3d-4e03-a5a2-12646924cc4e",
   "metadata": {},
   "outputs": [],
   "source": [
    "# Summary\n",
    "# Adding Items: Use direct assignment or the update() method.\n",
    "# Modifying Items: Use direct assignment or the update() method.\n",
    "# Deleting Items: Use the del statement, pop() method, popitem() method, or clear() method.\n",
    "# These operations allow you to effectively manage key-value pairs in a dictionary, making dictionaries a versatile and powerful data structure in Python."
   ]
  },
  {
   "cell_type": "code",
   "execution_count": null,
   "id": "bc0c98bb-9e83-4609-a6fc-9f873a497e71",
   "metadata": {},
   "outputs": [],
   "source": [
    "# 8) Discuss the importance of dictionary keys being immutable and provide examples\n",
    "# Ans Dictionary keys in Python must be immutable, meaning they cannot be changed after creation. This is crucial for several reasons:\n",
    "# In Python, dictionary keys must be immutable types. This is crucial for several reasons:\n",
    "\n",
    "# Importance of Immutable Dictionary Keys\n",
    "# Hashing Requirement:\n",
    "\n",
    "# Dictionary keys must be hashable, and immutable types have a consistent hash value. Hashing allows for fast lookups, insertions, and deletions.\n",
    "# Mutable objects, like lists, can change their content, leading to a change in their hash value, which would disrupt the integrity of the dictionary.\n",
    "# Consistency and Integrity:\n",
    "\n",
    "# Immutable keys ensure that the key-value pairs remain consistent and reliable throughout the dictionary's lifecycle. Mutable keys could change after being added to the dictionary, causing errors and inconsistencies.\n",
    "# Performance:\n",
    "\n",
    "# Using immutable keys allows the dictionary to maintain efficient and predictable performance characteristics. Hash tables, the underlying structure of dictionaries, rely on the immutability of keys to function correctly.\n",
    "# Examples of Immutable and Mutable Types\n",
    "# Immutable Types: Integers, floats, strings, tuples, frozensets.\n",
    "# Mutable Types: Lists, dictionaries, sets."
   ]
  },
  {
   "cell_type": "code",
   "execution_count": null,
   "id": "bbc041ed-633a-48c8-b883-c0fae6cf87bb",
   "metadata": {},
   "outputs": [],
   "source": [
    "#Examples\n",
    "#Using Immutable Types as Keys\n",
    "# Integer keys\n",
    "my_dict = {1: 'one', 2: 'two', 3: 'three'}\n",
    "print(my_dict[1])  # Output: one\n",
    "\n",
    "# String keys\n",
    "my_dict = {'name': 'Alice', 'age': 30}\n",
    "print(my_dict['name'])  # Output: Alice\n",
    "\n",
    "# Tuple keys\n",
    "my_dict = {(1, 2): 'a', (3, 4): 'b'}\n",
    "print(my_dict[(1, 2)])  # Output: a\n"
   ]
  },
  {
   "cell_type": "code",
   "execution_count": null,
   "id": "e4881120-a04b-46ad-bfe3-fe6272f8834e",
   "metadata": {},
   "outputs": [],
   "source": [
    "#Attempting to Use Mutable Types as Keys\n",
    "\n",
    "# List as a key (This will raise a TypeError)\n",
    "try:\n",
    "    my_dict = {[1, 2]: 'a', [3, 4]: 'b'}\n",
    "except TypeError as e:\n",
    "    print(e)  # Output: unhashable type: 'list'\n",
    "\n",
    "# Dictionary as a key (This will raise a TypeError)\n",
    "try:\n",
    "    my_dict = {{1: 'a'}: 'b'}\n",
    "except TypeError as e:\n",
    "    print(e)  # Output: unhashable type: 'dict'\n"
   ]
  },
  {
   "cell_type": "code",
   "execution_count": 35,
   "id": "c3a3dc43-ac99-4eef-a6ea-cfd5f33dad89",
   "metadata": {},
   "outputs": [
    {
     "name": "stdout",
     "output_type": "stream",
     "text": [
      "a\n"
     ]
    }
   ],
   "source": [
    "#Using Frozenset (Immutable Set) as Keys\n",
    "\n",
    "my_dict = {frozenset([1, 2]): 'a', frozenset([3, 4]): 'b'}\n",
    "print(my_dict[frozenset([1, 2])])  # Output: a\n"
   ]
  },
  {
   "cell_type": "code",
   "execution_count": null,
   "id": "76d4e699-ae01-423f-be98-20c9d6e49e6e",
   "metadata": {},
   "outputs": [],
   "source": [
    "# In summary, immutable dictionary keys ensure efficient, predictable, and reliable dictionary behavior, making them a fundamental aspect\n",
    "# of Python's dictionary implementation."
   ]
  }
 ],
 "metadata": {
  "kernelspec": {
   "display_name": "Python 3 (ipykernel)",
   "language": "python",
   "name": "python3"
  },
  "language_info": {
   "codemirror_mode": {
    "name": "ipython",
    "version": 3
   },
   "file_extension": ".py",
   "mimetype": "text/x-python",
   "name": "python",
   "nbconvert_exporter": "python",
   "pygments_lexer": "ipython3",
   "version": "3.10.8"
  }
 },
 "nbformat": 4,
 "nbformat_minor": 5
}
